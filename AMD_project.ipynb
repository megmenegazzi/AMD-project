{
  "nbformat": 4,
  "nbformat_minor": 0,
  "metadata": {
    "colab": {
      "name": "AMD project",
      "provenance": [],
      "authorship_tag": "ABX9TyPjn1W6dHzQYKjOCHXcZMZ5",
      "include_colab_link": true
    },
    "kernelspec": {
      "name": "python3",
      "display_name": "Python 3"
    },
    "language_info": {
      "name": "python"
    }
  },
  "cells": [
    {
      "cell_type": "markdown",
      "metadata": {
        "id": "view-in-github",
        "colab_type": "text"
      },
      "source": [
        "<a href=\"https://colab.research.google.com/github/megmenegazzi/AMD-project/blob/main/AMD_project.ipynb\" target=\"_parent\"><img src=\"https://colab.research.google.com/assets/colab-badge.svg\" alt=\"Open In Colab\"/></a>"
      ]
    },
    {
      "cell_type": "markdown",
      "source": [
        "## **Install pyspark packages**"
      ],
      "metadata": {
        "id": "d5PVBbS5jryf"
      }
    },
    {
      "cell_type": "code",
      "execution_count": 1,
      "metadata": {
        "id": "lKQifTHjY7AK",
        "outputId": "bd95c674-178d-41b2-f6fb-04bf6eb1bdc2",
        "colab": {
          "base_uri": "https://localhost:8080/"
        }
      },
      "outputs": [
        {
          "output_type": "stream",
          "name": "stdout",
          "text": [
            "Looking in indexes: https://pypi.org/simple, https://us-python.pkg.dev/colab-wheels/public/simple/\n",
            "Collecting pyspark\n",
            "  Downloading pyspark-3.3.1.tar.gz (281.4 MB)\n",
            "\u001b[K     |████████████████████████████████| 281.4 MB 47 kB/s \n",
            "\u001b[?25hCollecting py4j==0.10.9.5\n",
            "  Downloading py4j-0.10.9.5-py2.py3-none-any.whl (199 kB)\n",
            "\u001b[K     |████████████████████████████████| 199 kB 49.2 MB/s \n",
            "\u001b[?25hBuilding wheels for collected packages: pyspark\n",
            "  Building wheel for pyspark (setup.py) ... \u001b[?25l\u001b[?25hdone\n",
            "  Created wheel for pyspark: filename=pyspark-3.3.1-py2.py3-none-any.whl size=281845512 sha256=5f37be9bd23c594ab439a15eac8a448469044b28d0318315f5860f15533ff9ef\n",
            "  Stored in directory: /root/.cache/pip/wheels/43/dc/11/ec201cd671da62fa9c5cc77078235e40722170ceba231d7598\n",
            "Successfully built pyspark\n",
            "Installing collected packages: py4j, pyspark\n",
            "Successfully installed py4j-0.10.9.5 pyspark-3.3.1\n"
          ]
        }
      ],
      "source": [
        "!pip install pyspark"
      ]
    },
    {
      "cell_type": "code",
      "source": [
        "!pip install -q findspark"
      ],
      "metadata": {
        "id": "Aw-8PyU0d7B6"
      },
      "execution_count": 2,
      "outputs": []
    },
    {
      "cell_type": "markdown",
      "source": [
        "## **Instancing pyspark rdd**"
      ],
      "metadata": {
        "id": "a9dj-D2jj3I4"
      }
    },
    {
      "cell_type": "code",
      "source": [
        "from pyspark.sql import SparkSession\n",
        "spark = SparkSession.builder.master(\"local[*]\").getOrCreate()"
      ],
      "metadata": {
        "id": "bwzniVg5Y_jO"
      },
      "execution_count": 3,
      "outputs": []
    },
    {
      "cell_type": "code",
      "source": [
        "import pyspark\n",
        "type(spark)"
      ],
      "metadata": {
        "id": "B4b3ie6MZjUg",
        "outputId": "d92b0d6c-33d5-482c-c334-2768c6fddd33",
        "colab": {
          "base_uri": "https://localhost:8080/"
        }
      },
      "execution_count": 4,
      "outputs": [
        {
          "output_type": "execute_result",
          "data": {
            "text/plain": [
              "pyspark.sql.session.SparkSession"
            ]
          },
          "metadata": {},
          "execution_count": 4
        }
      ]
    },
    {
      "cell_type": "code",
      "source": [
        "sc = spark.sparkContext"
      ],
      "metadata": {
        "id": "g91lmIf3ZpLC"
      },
      "execution_count": 5,
      "outputs": []
    },
    {
      "cell_type": "code",
      "source": [
        "import os\n",
        "import findspark\n",
        "import pandas as pd\n",
        "import numpy as np"
      ],
      "metadata": {
        "id": "GRsFl8iYdqJq"
      },
      "execution_count": 6,
      "outputs": []
    },
    {
      "cell_type": "markdown",
      "source": [
        "## **Load Data**"
      ],
      "metadata": {
        "id": "Kt-PLVLUkB2X"
      }
    },
    {
      "cell_type": "code",
      "source": [
        "os.environ[\"KAGGLE_USERNAME\"] = \"margheritamenegazzi\"\n",
        "os.environ[\"KAGGLE_KEY\"] = \"75953089094982034e32cf970ea2d0e2\""
      ],
      "metadata": {
        "id": "v1dOCFB-ZsIy"
      },
      "execution_count": 7,
      "outputs": []
    },
    {
      "cell_type": "code",
      "source": [
        "!kaggle datasets download ashirwadsangwan/imdb-dataset --unzip"
      ],
      "metadata": {
        "id": "2rLGNAn7edF8",
        "outputId": "fbc5728f-6da1-415e-c423-cf92bef4cb25",
        "colab": {
          "base_uri": "https://localhost:8080/"
        }
      },
      "execution_count": 8,
      "outputs": [
        {
          "output_type": "stream",
          "name": "stdout",
          "text": [
            "Downloading imdb-dataset.zip to /content\n",
            "100% 1.03G/1.04G [00:35<00:00, 41.6MB/s]\n",
            "100% 1.04G/1.04G [00:35<00:00, 31.4MB/s]\n"
          ]
        }
      ]
    },
    {
      "cell_type": "markdown",
      "source": [
        "## **Clean Data**"
      ],
      "metadata": {
        "id": "SCaR2T-Vv9La"
      }
    },
    {
      "cell_type": "code",
      "source": [
        "# import as dataframe\n",
        "data = spark.read.option(\"delimiter\", \"\\t\").option(\"header\", True).csv(\"title.principals.tsv/data.tsv\").limit(10000) "
      ],
      "metadata": {
        "id": "6sSz0qYV0LMn"
      },
      "execution_count": 9,
      "outputs": []
    },
    {
      "cell_type": "code",
      "source": [
        "#data.cache()\n",
        "#data.count()"
      ],
      "metadata": {
        "id": "s7iVJqBTTRJM",
        "outputId": "f315731f-5d38-4689-dcf7-4f612ae11be0",
        "colab": {
          "base_uri": "https://localhost:8080/"
        }
      },
      "execution_count": 10,
      "outputs": [
        {
          "output_type": "execute_result",
          "data": {
            "text/plain": [
              "DataFrame[tconst: string, ordering: string, nconst: string, category: string, job: string, characters: string]"
            ]
          },
          "metadata": {},
          "execution_count": 10
        }
      ]
    },
    {
      "cell_type": "code",
      "source": [
        "#data.take(5)"
      ],
      "metadata": {
        "id": "9c7_OeyPfPFm"
      },
      "execution_count": null,
      "outputs": []
    },
    {
      "cell_type": "code",
      "source": [
        "# drop unwanted columns\n",
        "data1 = data.drop(\"ordering\",\"category\",\"job\", \"characters\")"
      ],
      "metadata": {
        "id": "9kul16g-19lR"
      },
      "execution_count": 11,
      "outputs": []
    },
    {
      "cell_type": "code",
      "source": [
        "#data1.take(5)"
      ],
      "metadata": {
        "id": "KybhhdtI2mpy"
      },
      "execution_count": null,
      "outputs": []
    },
    {
      "cell_type": "code",
      "source": [
        "#data1.printSchema()"
      ],
      "metadata": {
        "id": "83lOTb-lkM_R"
      },
      "execution_count": null,
      "outputs": []
    },
    {
      "cell_type": "code",
      "source": [
        "# rename columns\n",
        "\n",
        "data2 = data1.selectExpr(\"tconst as title\", \"nconst as actor\")\n",
        "\n",
        "#data2.printSchema()"
      ],
      "metadata": {
        "id": "-iVve5mH4V_k"
      },
      "execution_count": 12,
      "outputs": []
    },
    {
      "cell_type": "code",
      "source": [
        "# define funcitons to drop unwanted characters\n",
        "\n",
        "from pyspark.sql.functions import udf,col\n",
        "\n",
        "udf_title_change = udf(lambda title : int(title[2:]))\n",
        "udf_actor_change = udf(lambda actor : int(actor[2:]))\n",
        "\n"
      ],
      "metadata": {
        "id": "IM0-5HQIs7kt"
      },
      "execution_count": 13,
      "outputs": []
    },
    {
      "cell_type": "code",
      "source": [
        "# create new dataframe with clean data\n",
        "\n",
        "data3 = data2.withColumn(\"title\",udf_title_change(col(\"title\")))\n",
        "data4 = data3.withColumn(\"actor\",udf_actor_change(col(\"actor\")))\n",
        "\n",
        "data4.show(5)"
      ],
      "metadata": {
        "id": "HJ8rBtLq7lkr",
        "outputId": "91fd6fe3-3acc-47f1-cc6d-13556ee4fa40",
        "colab": {
          "base_uri": "https://localhost:8080/"
        }
      },
      "execution_count": 14,
      "outputs": [
        {
          "output_type": "stream",
          "name": "stdout",
          "text": [
            "+-----+-------+\n",
            "|title|  actor|\n",
            "+-----+-------+\n",
            "|    1|1588970|\n",
            "|    1|   5690|\n",
            "|    1| 374658|\n",
            "|    2| 721526|\n",
            "|    2|1335271|\n",
            "+-----+-------+\n",
            "only showing top 5 rows\n",
            "\n"
          ]
        }
      ]
    },
    {
      "cell_type": "markdown",
      "source": [
        "## **Load and analyze Dataset on Spark**"
      ],
      "metadata": {
        "id": "IxSYW-lTon0r"
      }
    },
    {
      "cell_type": "code",
      "source": [
        "# create tuples with title and actor\n",
        "\n",
        "rdd = data4.rdd\n",
        "\n",
        "simple_rdd = rdd.map(tuple)\n",
        "\n",
        "simple_rdd.take(5)"
      ],
      "metadata": {
        "id": "4MD2ipe-H_bq",
        "outputId": "a2daa9d5-ee38-4b88-bbd9-978826af96de",
        "colab": {
          "base_uri": "https://localhost:8080/"
        }
      },
      "execution_count": 15,
      "outputs": [
        {
          "output_type": "execute_result",
          "data": {
            "text/plain": [
              "[('1', '1588970'),\n",
              " ('1', '5690'),\n",
              " ('1', '374658'),\n",
              " ('2', '721526'),\n",
              " ('2', '1335271')]"
            ]
          },
          "metadata": {},
          "execution_count": 15
        }
      ]
    },
    {
      "cell_type": "code",
      "source": [
        "# simple_rdd.count()"
      ],
      "metadata": {
        "id": "1EAbFdnOO8Vd"
      },
      "execution_count": null,
      "outputs": []
    },
    {
      "cell_type": "code",
      "source": [
        "# invert key and value, first actor then title\n",
        "\n",
        "inverted = simple_rdd.map(lambda t : (t[1], t[0]))\n",
        "inverted.take(2) "
      ],
      "metadata": {
        "id": "2z_C6sVbr4Gw",
        "outputId": "fe06a3b4-8b5f-489e-f751-2b74a4521a42",
        "colab": {
          "base_uri": "https://localhost:8080/"
        }
      },
      "execution_count": 16,
      "outputs": [
        {
          "output_type": "execute_result",
          "data": {
            "text/plain": [
              "[('1588970', '1'), ('5690', '1')]"
            ]
          },
          "metadata": {},
          "execution_count": 16
        }
      ]
    },
    {
      "cell_type": "code",
      "source": [
        "# link movies with the same actor\n",
        "\n",
        "joined = inverted.join(inverted)\n",
        "joined.take(2) "
      ],
      "metadata": {
        "id": "mRxL65h1tGPb",
        "outputId": "b84afa44-a09c-49e9-94ac-136bc3ec9ee3",
        "colab": {
          "base_uri": "https://localhost:8080/"
        }
      },
      "execution_count": 17,
      "outputs": [
        {
          "output_type": "execute_result",
          "data": {
            "text/plain": [
              "[('5690', ('1', '1')), ('5690', ('1', '5'))]"
            ]
          },
          "metadata": {},
          "execution_count": 17
        }
      ]
    },
    {
      "cell_type": "code",
      "source": [
        "# remove self loops\n",
        "\n",
        "filtered = joined.filter(lambda x : x[1][0]!= x[1][1])\n",
        "filtered.take(2) "
      ],
      "metadata": {
        "id": "xaO5hctZ5W3O",
        "outputId": "64532729-05a0-4c30-cb84-196c0c7b9277",
        "colab": {
          "base_uri": "https://localhost:8080/"
        }
      },
      "execution_count": 18,
      "outputs": [
        {
          "output_type": "execute_result",
          "data": {
            "text/plain": [
              "[('5690', ('1', '5')), ('5690', ('1', '6'))]"
            ]
          },
          "metadata": {},
          "execution_count": 18
        }
      ]
    },
    {
      "cell_type": "code",
      "source": [
        "# keep the link list\n",
        "\n",
        "links = filtered.map(lambda x : x[1])\n",
        "links.take(2) "
      ],
      "metadata": {
        "id": "nPasjga__PIC",
        "outputId": "7f4b95a9-1a1a-43d0-d161-7b86907946a2",
        "colab": {
          "base_uri": "https://localhost:8080/"
        }
      },
      "execution_count": 19,
      "outputs": [
        {
          "output_type": "execute_result",
          "data": {
            "text/plain": [
              "[('1', '5'), ('1', '6')]"
            ]
          },
          "metadata": {},
          "execution_count": 19
        }
      ]
    },
    {
      "cell_type": "code",
      "source": [
        "# define function that computes the entries of the adjacency matrix\n",
        "\n",
        "def adj(x,y):\n",
        "  \n",
        "  for elem in y:\n",
        "    x.append(elem)\n",
        "  return x   "
      ],
      "metadata": {
        "id": "Pqo09D2XvAHI"
      },
      "execution_count": 20,
      "outputs": []
    },
    {
      "cell_type": "code",
      "source": [
        "adjacency1 = links.mapValues(lambda v: [v])\n",
        "adjacency1.take(2)"
      ],
      "metadata": {
        "id": "7VC5qH-C-5u2",
        "outputId": "c6aade4d-4f27-41b7-e99e-66d0adaccd83",
        "colab": {
          "base_uri": "https://localhost:8080/"
        }
      },
      "execution_count": 21,
      "outputs": [
        {
          "output_type": "execute_result",
          "data": {
            "text/plain": [
              "[('1', ['5']), ('1', ['6'])]"
            ]
          },
          "metadata": {},
          "execution_count": 21
        }
      ]
    },
    {
      "cell_type": "code",
      "source": [
        "# create the adjacency matrix\n",
        "\n",
        "adjacency = adjacency1.reduceByKey(adj)\n",
        "adjacency.take(2) "
      ],
      "metadata": {
        "id": "tjdE5grwvfBn",
        "outputId": "c8d70696-e6bd-4b50-dce9-dfdb1991847e",
        "colab": {
          "base_uri": "https://localhost:8080/"
        }
      },
      "execution_count": 22,
      "outputs": [
        {
          "output_type": "execute_result",
          "data": {
            "text/plain": [
              "[('1',\n",
              "  ['5',\n",
              "   '6',\n",
              "   '7',\n",
              "   '8',\n",
              "   '36',\n",
              "   '60',\n",
              "   '76',\n",
              "   '82',\n",
              "   '108',\n",
              "   '109',\n",
              "   '110',\n",
              "   '111',\n",
              "   '112',\n",
              "   '113',\n",
              "   '135',\n",
              "   '201',\n",
              "   '247',\n",
              "   '464',\n",
              "   '7',\n",
              "   '8',\n",
              "   '38',\n",
              "   '142',\n",
              "   '192']),\n",
              " ('8',\n",
              "  ['1',\n",
              "   '5',\n",
              "   '6',\n",
              "   '7',\n",
              "   '36',\n",
              "   '60',\n",
              "   '76',\n",
              "   '82',\n",
              "   '108',\n",
              "   '109',\n",
              "   '110',\n",
              "   '111',\n",
              "   '112',\n",
              "   '113',\n",
              "   '135',\n",
              "   '201',\n",
              "   '247',\n",
              "   '464',\n",
              "   '1',\n",
              "   '7',\n",
              "   '38',\n",
              "   '142',\n",
              "   '192'])]"
            ]
          },
          "metadata": {},
          "execution_count": 22
        }
      ]
    },
    {
      "cell_type": "code",
      "source": [
        "# define function that computes the entries of the connection matrix\n",
        "\n",
        "def conn(x):\n",
        "  k, v = x\n",
        "  result = []\n",
        "  for vi in v:\n",
        "    entry = (k, vi, 1/len(v))\n",
        "    result.append(entry)\n",
        "  return result\n",
        "\n"
      ],
      "metadata": {
        "id": "GrbU81ujfYQr"
      },
      "execution_count": 23,
      "outputs": []
    },
    {
      "cell_type": "code",
      "source": [
        "# create the connection matrix\n",
        "\n",
        "connection = adjacency.flatMap(conn)\n",
        "connection.take(10) "
      ],
      "metadata": {
        "id": "_nEHmY0AFFTN",
        "outputId": "53bd9709-8475-4c77-b244-1120335d596a",
        "colab": {
          "base_uri": "https://localhost:8080/"
        }
      },
      "execution_count": 24,
      "outputs": [
        {
          "output_type": "execute_result",
          "data": {
            "text/plain": [
              "[('1', '5', 0.043478260869565216),\n",
              " ('1', '6', 0.043478260869565216),\n",
              " ('1', '7', 0.043478260869565216),\n",
              " ('1', '8', 0.043478260869565216),\n",
              " ('1', '36', 0.043478260869565216),\n",
              " ('1', '60', 0.043478260869565216),\n",
              " ('1', '76', 0.043478260869565216),\n",
              " ('1', '82', 0.043478260869565216),\n",
              " ('1', '108', 0.043478260869565216),\n",
              " ('1', '109', 0.043478260869565216)]"
            ]
          },
          "metadata": {},
          "execution_count": 24
        }
      ]
    },
    {
      "cell_type": "code",
      "source": [
        "# define the keys list\n",
        "\n",
        "KL = sorted(connection.map(lambda x : x[0]).distinct().collect()) \n",
        "\n",
        "KL[:5]"
      ],
      "metadata": {
        "id": "mDPGx6UfM_Pq",
        "outputId": "cf0385c6-7fd5-453a-880f-abb62069024f",
        "colab": {
          "base_uri": "https://localhost:8080/"
        }
      },
      "execution_count": 25,
      "outputs": [
        {
          "output_type": "execute_result",
          "data": {
            "text/plain": [
              "['1', '10', '100', '1000', '1001']"
            ]
          },
          "metadata": {},
          "execution_count": 25
        }
      ]
    },
    {
      "cell_type": "code",
      "source": [
        "# dictionary that maps every movie id to its position in sequence\n",
        "\n",
        "dizionario = dict(zip(KL, range(len(KL)))) \n"
      ],
      "metadata": {
        "id": "rdKvbMf0CqT_"
      },
      "execution_count": 26,
      "outputs": []
    },
    {
      "cell_type": "code",
      "source": [
        "#for key, value in dizionario.items():\n",
        "#    print(key, ' : ', value)"
      ],
      "metadata": {
        "id": "drMmifqI9IzL"
      },
      "execution_count": 28,
      "outputs": []
    },
    {
      "cell_type": "code",
      "source": [
        "# define map function\n",
        "\n",
        "# prende connection matrix e sostituisce i nomi originali con quelli sequenziali del dizionario\n",
        "\n",
        "# risultato : nodo partenza nodo arrivo e probabilità\n",
        "\n",
        "def remap(x):\n",
        "  \n",
        "  #scompose\n",
        "  i,j,f=x\n",
        "\n",
        "  #map\n",
        "  i = dizionario[i]\n",
        "  j = dizionario[j]\n",
        "\n",
        "  #recompose\n",
        "  nuovatupla = ((i),(j,f))\n",
        "\n",
        "  return nuovatupla\n",
        "\n",
        "\n",
        "mapped = connection.map(remap)"
      ],
      "metadata": {
        "id": "755OS8bKCnW9"
      },
      "execution_count": 29,
      "outputs": []
    },
    {
      "cell_type": "code",
      "source": [
        "mapped.take(50)"
      ],
      "metadata": {
        "id": "XXNBoNWT9cVK"
      },
      "execution_count": null,
      "outputs": []
    },
    {
      "cell_type": "code",
      "source": [
        "# create the array for the page rank\n",
        "\n",
        "n = len(KL)\n",
        "page_rank = np.ones(n)/n # time t\n",
        "old_page_rank = np.ones(n) # time -1"
      ],
      "metadata": {
        "id": "Xyy3-SaIlL8_"
      },
      "execution_count": 37,
      "outputs": []
    },
    {
      "cell_type": "code",
      "source": [
        "# printo solo nodo arrivo e prob da mapped\n",
        "\n",
        "#mapped.mapValues(lambda x : x[1]).collect()"
      ],
      "metadata": {
        "id": "IzdGCe8TPpp-"
      },
      "execution_count": 34,
      "outputs": []
    },
    {
      "cell_type": "code",
      "source": [
        "# define a function that measures the distance to make the page rank converge\n",
        "\n",
        "# MSE distance between old page rank and page rank\n",
        "\n",
        "def l2distance(v, q):\n",
        "    \n",
        "    if len(v) != len(q):\n",
        "        raise ValueError(f'Cannot compute the distance of two vectors of size {len(v)} and {len(q)}')\n",
        "    \n",
        "    return sum([(q_el - v_el)**2 for v_el, q_el in zip(v, q)])"
      ],
      "metadata": {
        "id": "vLpBZbQCnqKF"
      },
      "execution_count": 38,
      "outputs": []
    },
    {
      "cell_type": "code",
      "source": [
        "# compute the page rank\n",
        "\n",
        "tolerance = 10e-70\n",
        "max_iterations = 350\n",
        " \n",
        "iteration = 0\n",
        "\n",
        "\n",
        "while(l2distance(old_page_rank, page_rank) >= tolerance and iteration < max_iterations):\n",
        "  \n",
        "  \n",
        "    old_page_rank = np.copy(page_rank) # at each cycle the new 'old' value becomes the old 'new' value \n",
        "    page_rank_values = (mapped\n",
        "                        .mapValues(lambda v: v[1]*page_rank[v[0]]) # multiplication row-col between matrix and vector\n",
        "                        .reduceByKey(lambda a, b: a+b) # sum up the results of the correct rows and columns\n",
        "                        .sortByKey()\n",
        "                        .collect()\n",
        "                       )\n",
        "  \n",
        "    print(page_rank_values[:5]) # page-rank values of the first 5 movies\n",
        "    page_rank = np.array([c for (i, c) in page_rank_values])\n",
        "    \n",
        "    print(iteration)\n",
        "    iteration += 1"
      ],
      "metadata": {
        "id": "tqqkg3mFnusX",
        "outputId": "0999e2ff-b867-444f-fae4-0358153e7494",
        "colab": {
          "base_uri": "https://localhost:8080/"
        }
      },
      "execution_count": 39,
      "outputs": [
        {
          "output_type": "stream",
          "name": "stdout",
          "text": [
            "[(0, 0.00048638132295719845), (1, 0.00048638132295719856), (2, 0.00048638132295719796), (3, 0.0004863813229571968), (4, 0.0004863813229571879)]\n",
            "0\n",
            "[(0, 0.0004863813229571972), (1, 0.0004863813229571985), (2, 0.0004863813229571979), (3, 0.0004863813229571972), (4, 0.0004863813229571914)]\n",
            "1\n",
            "[(0, 0.0004863813229571983), (1, 0.00048638132295719856), (2, 0.00048638132295719785), (3, 0.000486381322957197), (4, 0.000486381322957191)]\n",
            "2\n",
            "[(0, 0.0004863813229571979), (1, 0.00048638132295719856), (2, 0.00048638132295719785), (3, 0.0004863813229571972), (4, 0.0004863813229571913)]\n",
            "3\n",
            "[(0, 0.00048638132295719856), (1, 0.00048638132295719856), (2, 0.00048638132295719785), (3, 0.00048638132295719704), (4, 0.0004863813229571913)]\n",
            "4\n",
            "[(0, 0.00048638132295719834), (1, 0.00048638132295719856), (2, 0.00048638132295719785), (3, 0.00048638132295719715), (4, 0.0004863813229571914)]\n",
            "5\n",
            "[(0, 0.00048638132295719867), (1, 0.00048638132295719856), (2, 0.00048638132295719785), (3, 0.0004863813229571972), (4, 0.00048638132295719146)]\n",
            "6\n",
            "[(0, 0.00048638132295719883), (1, 0.00048638132295719856), (2, 0.00048638132295719785), (3, 0.0004863813229571972), (4, 0.00048638132295719146)]\n",
            "7\n",
            "[(0, 0.00048638132295719894), (1, 0.00048638132295719856), (2, 0.00048638132295719785), (3, 0.00048638132295719726), (4, 0.0004863813229571915)]\n",
            "8\n",
            "[(0, 0.0004863813229571991), (1, 0.00048638132295719856), (2, 0.00048638132295719785), (3, 0.00048638132295719726), (4, 0.0004863813229571916)]\n",
            "9\n",
            "[(0, 0.00048638132295719926), (1, 0.00048638132295719856), (2, 0.00048638132295719785), (3, 0.00048638132295719726), (4, 0.0004863813229571916)]\n",
            "10\n",
            "[(0, 0.00048638132295719937), (1, 0.00048638132295719856), (2, 0.00048638132295719785), (3, 0.0004863813229571973), (4, 0.0004863813229571917)]\n",
            "11\n",
            "[(0, 0.0004863813229571994), (1, 0.00048638132295719856), (2, 0.00048638132295719785), (3, 0.0004863813229571973), (4, 0.00048638132295719173)]\n",
            "12\n",
            "[(0, 0.0004863813229571994), (1, 0.00048638132295719856), (2, 0.00048638132295719785), (3, 0.00048638132295719737), (4, 0.0004863813229571918)]\n",
            "13\n",
            "[(0, 0.0004863813229571996), (1, 0.00048638132295719856), (2, 0.00048638132295719785), (3, 0.00048638132295719737), (4, 0.0004863813229571918)]\n",
            "14\n",
            "[(0, 0.00048638132295719964), (1, 0.00048638132295719856), (2, 0.00048638132295719785), (3, 0.0004863813229571974), (4, 0.0004863813229571919)]\n",
            "15\n",
            "[(0, 0.00048638132295719964), (1, 0.00048638132295719856), (2, 0.00048638132295719785), (3, 0.0004863813229571975), (4, 0.00048638132295719195)]\n",
            "16\n",
            "[(0, 0.0004863813229571997), (1, 0.00048638132295719856), (2, 0.00048638132295719785), (3, 0.00048638132295719753), (4, 0.00048638132295719205)]\n",
            "17\n",
            "[(0, 0.00048638132295719986), (1, 0.00048638132295719856), (2, 0.00048638132295719785), (3, 0.00048638132295719753), (4, 0.0004863813229571921)]\n",
            "18\n",
            "[(0, 0.00048638132295719986), (1, 0.00048638132295719856), (2, 0.00048638132295719785), (3, 0.00048638132295719753), (4, 0.00048638132295719216)]\n",
            "19\n",
            "[(0, 0.00048638132295719997), (1, 0.00048638132295719856), (2, 0.00048638132295719785), (3, 0.0004863813229571976), (4, 0.00048638132295719216)]\n",
            "20\n",
            "[(0, 0.00048638132295719997), (1, 0.00048638132295719856), (2, 0.00048638132295719785), (3, 0.0004863813229571976), (4, 0.00048638132295719227)]\n",
            "21\n",
            "[(0, 0.0004863813229572), (1, 0.00048638132295719856), (2, 0.00048638132295719785), (3, 0.0004863813229571976), (4, 0.00048638132295719227)]\n",
            "22\n",
            "[(0, 0.00048638132295720013), (1, 0.00048638132295719856), (2, 0.00048638132295719785), (3, 0.0004863813229571976), (4, 0.00048638132295719227)]\n",
            "23\n",
            "[(0, 0.00048638132295720013), (1, 0.00048638132295719856), (2, 0.00048638132295719785), (3, 0.0004863813229571976), (4, 0.0004863813229571924)]\n",
            "24\n",
            "[(0, 0.00048638132295720013), (1, 0.00048638132295719856), (2, 0.00048638132295719785), (3, 0.00048638132295719764), (4, 0.0004863813229571924)]\n",
            "25\n",
            "[(0, 0.00048638132295720013), (1, 0.00048638132295719856), (2, 0.00048638132295719785), (3, 0.00048638132295719764), (4, 0.00048638132295719243)]\n",
            "26\n",
            "[(0, 0.00048638132295720024), (1, 0.00048638132295719856), (2, 0.00048638132295719785), (3, 0.00048638132295719764), (4, 0.00048638132295719243)]\n",
            "27\n",
            "[(0, 0.0004863813229572003), (1, 0.00048638132295719856), (2, 0.00048638132295719785), (3, 0.0004863813229571977), (4, 0.0004863813229571925)]\n",
            "28\n",
            "[(0, 0.0004863813229572003), (1, 0.00048638132295719856), (2, 0.00048638132295719785), (3, 0.0004863813229571977), (4, 0.00048638132295719254)]\n",
            "29\n",
            "[(0, 0.0004863813229572004), (1, 0.00048638132295719856), (2, 0.00048638132295719785), (3, 0.0004863813229571977), (4, 0.00048638132295719254)]\n",
            "30\n",
            "[(0, 0.00048638132295720046), (1, 0.00048638132295719856), (2, 0.00048638132295719785), (3, 0.0004863813229571977), (4, 0.0004863813229571926)]\n",
            "31\n",
            "[(0, 0.00048638132295720046), (1, 0.00048638132295719856), (2, 0.00048638132295719785), (3, 0.0004863813229571977), (4, 0.00048638132295719265)]\n",
            "32\n",
            "[(0, 0.00048638132295720046), (1, 0.00048638132295719856), (2, 0.00048638132295719785), (3, 0.00048638132295719775), (4, 0.00048638132295719265)]\n",
            "33\n",
            "[(0, 0.00048638132295720046), (1, 0.00048638132295719856), (2, 0.00048638132295719785), (3, 0.00048638132295719775), (4, 0.0004863813229571927)]\n",
            "34\n",
            "[(0, 0.00048638132295720056), (1, 0.00048638132295719856), (2, 0.00048638132295719785), (3, 0.0004863813229571978), (4, 0.00048638132295719276)]\n",
            "35\n",
            "[(0, 0.00048638132295720056), (1, 0.00048638132295719856), (2, 0.00048638132295719785), (3, 0.0004863813229571978), (4, 0.00048638132295719276)]\n",
            "36\n",
            "[(0, 0.0004863813229572007), (1, 0.00048638132295719856), (2, 0.00048638132295719785), (3, 0.0004863813229571978), (4, 0.00048638132295719276)]\n",
            "37\n",
            "[(0, 0.0004863813229572008), (1, 0.00048638132295719856), (2, 0.00048638132295719785), (3, 0.0004863813229571978), (4, 0.0004863813229571928)]\n",
            "38\n",
            "[(0, 0.00048638132295720084), (1, 0.00048638132295719856), (2, 0.00048638132295719785), (3, 0.0004863813229571978), (4, 0.00048638132295719287)]\n",
            "39\n",
            "[(0, 0.00048638132295720084), (1, 0.00048638132295719856), (2, 0.00048638132295719785), (3, 0.0004863813229571978), (4, 0.00048638132295719287)]\n",
            "40\n",
            "[(0, 0.0004863813229572009), (1, 0.00048638132295719856), (2, 0.00048638132295719785), (3, 0.00048638132295719785), (4, 0.00048638132295719287)]\n",
            "41\n",
            "[(0, 0.0004863813229572009), (1, 0.00048638132295719856), (2, 0.00048638132295719785), (3, 0.00048638132295719785), (4, 0.00048638132295719287)]\n",
            "42\n",
            "[(0, 0.0004863813229572009), (1, 0.00048638132295719856), (2, 0.00048638132295719785), (3, 0.00048638132295719785), (4, 0.00048638132295719287)]\n",
            "43\n",
            "[(0, 0.0004863813229572009), (1, 0.00048638132295719856), (2, 0.00048638132295719785), (3, 0.00048638132295719785), (4, 0.00048638132295719287)]\n",
            "44\n",
            "[(0, 0.0004863813229572009), (1, 0.00048638132295719856), (2, 0.00048638132295719785), (3, 0.00048638132295719785), (4, 0.00048638132295719287)]\n",
            "45\n",
            "[(0, 0.000486381322957201), (1, 0.00048638132295719856), (2, 0.00048638132295719785), (3, 0.00048638132295719785), (4, 0.00048638132295719287)]\n",
            "46\n",
            "[(0, 0.0004863813229572011), (1, 0.00048638132295719856), (2, 0.00048638132295719785), (3, 0.00048638132295719785), (4, 0.0004863813229571929)]\n",
            "47\n",
            "[(0, 0.00048638132295720127), (1, 0.00048638132295719856), (2, 0.00048638132295719785), (3, 0.00048638132295719785), (4, 0.0004863813229571929)]\n",
            "48\n",
            "[(0, 0.00048638132295720127), (1, 0.00048638132295719856), (2, 0.00048638132295719785), (3, 0.00048638132295719785), (4, 0.0004863813229571929)]\n",
            "49\n",
            "[(0, 0.0004863813229572014), (1, 0.00048638132295719856), (2, 0.00048638132295719785), (3, 0.0004863813229571979), (4, 0.000486381322957193)]\n",
            "50\n",
            "[(0, 0.0004863813229572014), (1, 0.00048638132295719856), (2, 0.00048638132295719785), (3, 0.0004863813229571979), (4, 0.000486381322957193)]\n",
            "51\n",
            "[(0, 0.0004863813229572014), (1, 0.00048638132295719856), (2, 0.00048638132295719785), (3, 0.0004863813229571979), (4, 0.000486381322957193)]\n",
            "52\n",
            "[(0, 0.0004863813229572014), (1, 0.00048638132295719856), (2, 0.00048638132295719785), (3, 0.0004863813229571979), (4, 0.000486381322957193)]\n",
            "53\n",
            "[(0, 0.0004863813229572014), (1, 0.00048638132295719856), (2, 0.00048638132295719785), (3, 0.0004863813229571979), (4, 0.000486381322957193)]\n",
            "54\n",
            "[(0, 0.00048638132295720143), (1, 0.00048638132295719856), (2, 0.00048638132295719785), (3, 0.0004863813229571979), (4, 0.000486381322957193)]\n",
            "55\n",
            "[(0, 0.00048638132295720143), (1, 0.00048638132295719856), (2, 0.00048638132295719785), (3, 0.0004863813229571979), (4, 0.000486381322957193)]\n",
            "56\n",
            "[(0, 0.0004863813229572015), (1, 0.00048638132295719856), (2, 0.00048638132295719785), (3, 0.0004863813229571979), (4, 0.00048638132295719303)]\n",
            "57\n",
            "[(0, 0.0004863813229572015), (1, 0.00048638132295719856), (2, 0.00048638132295719785), (3, 0.0004863813229571979), (4, 0.00048638132295719303)]\n",
            "58\n",
            "[(0, 0.0004863813229572015), (1, 0.00048638132295719856), (2, 0.00048638132295719785), (3, 0.0004863813229571979), (4, 0.00048638132295719303)]\n",
            "59\n",
            "[(0, 0.0004863813229572015), (1, 0.00048638132295719856), (2, 0.00048638132295719785), (3, 0.0004863813229571979), (4, 0.00048638132295719303)]\n",
            "60\n",
            "[(0, 0.0004863813229572015), (1, 0.00048638132295719856), (2, 0.00048638132295719785), (3, 0.00048638132295719796), (4, 0.0004863813229571931)]\n",
            "61\n",
            "[(0, 0.0004863813229572015), (1, 0.00048638132295719856), (2, 0.00048638132295719785), (3, 0.00048638132295719796), (4, 0.0004863813229571931)]\n",
            "62\n",
            "[(0, 0.0004863813229572015), (1, 0.00048638132295719856), (2, 0.00048638132295719785), (3, 0.00048638132295719796), (4, 0.0004863813229571931)]\n",
            "63\n",
            "[(0, 0.0004863813229572015), (1, 0.00048638132295719856), (2, 0.00048638132295719785), (3, 0.00048638132295719796), (4, 0.00048638132295719314)]\n",
            "64\n",
            "[(0, 0.0004863813229572015), (1, 0.00048638132295719856), (2, 0.00048638132295719785), (3, 0.00048638132295719796), (4, 0.0004863813229571932)]\n",
            "65\n",
            "[(0, 0.0004863813229572015), (1, 0.00048638132295719856), (2, 0.00048638132295719785), (3, 0.00048638132295719796), (4, 0.0004863813229571932)]\n",
            "66\n",
            "[(0, 0.0004863813229572015), (1, 0.00048638132295719856), (2, 0.00048638132295719785), (3, 0.00048638132295719796), (4, 0.0004863813229571932)]\n",
            "67\n",
            "[(0, 0.0004863813229572015), (1, 0.00048638132295719856), (2, 0.00048638132295719785), (3, 0.00048638132295719796), (4, 0.0004863813229571932)]\n",
            "68\n",
            "[(0, 0.00048638132295720154), (1, 0.00048638132295719856), (2, 0.00048638132295719785), (3, 0.00048638132295719796), (4, 0.0004863813229571932)]\n",
            "69\n",
            "[(0, 0.00048638132295720165), (1, 0.00048638132295719856), (2, 0.00048638132295719785), (3, 0.00048638132295719796), (4, 0.0004863813229571932)]\n",
            "70\n",
            "[(0, 0.00048638132295720165), (1, 0.00048638132295719856), (2, 0.00048638132295719785), (3, 0.00048638132295719796), (4, 0.00048638132295719325)]\n",
            "71\n",
            "[(0, 0.00048638132295720165), (1, 0.00048638132295719856), (2, 0.00048638132295719785), (3, 0.00048638132295719796), (4, 0.00048638132295719325)]\n",
            "72\n",
            "[(0, 0.00048638132295720165), (1, 0.00048638132295719856), (2, 0.00048638132295719785), (3, 0.00048638132295719796), (4, 0.00048638132295719325)]\n",
            "73\n",
            "[(0, 0.00048638132295720165), (1, 0.00048638132295719856), (2, 0.00048638132295719785), (3, 0.00048638132295719796), (4, 0.00048638132295719325)]\n",
            "74\n",
            "[(0, 0.00048638132295720165), (1, 0.00048638132295719856), (2, 0.00048638132295719785), (3, 0.00048638132295719796), (4, 0.00048638132295719325)]\n",
            "75\n",
            "[(0, 0.00048638132295720165), (1, 0.00048638132295719856), (2, 0.00048638132295719785), (3, 0.00048638132295719796), (4, 0.00048638132295719325)]\n",
            "76\n",
            "[(0, 0.00048638132295720165), (1, 0.00048638132295719856), (2, 0.00048638132295719785), (3, 0.000486381322957198), (4, 0.00048638132295719325)]\n",
            "77\n",
            "[(0, 0.00048638132295720165), (1, 0.00048638132295719856), (2, 0.00048638132295719785), (3, 0.000486381322957198), (4, 0.0004863813229571933)]\n",
            "78\n",
            "[(0, 0.00048638132295720165), (1, 0.00048638132295719856), (2, 0.00048638132295719785), (3, 0.000486381322957198), (4, 0.0004863813229571933)]\n",
            "79\n",
            "[(0, 0.00048638132295720165), (1, 0.00048638132295719856), (2, 0.00048638132295719785), (3, 0.000486381322957198), (4, 0.0004863813229571933)]\n",
            "80\n",
            "[(0, 0.00048638132295720165), (1, 0.00048638132295719856), (2, 0.00048638132295719785), (3, 0.000486381322957198), (4, 0.0004863813229571933)]\n",
            "81\n",
            "[(0, 0.00048638132295720165), (1, 0.00048638132295719856), (2, 0.00048638132295719785), (3, 0.000486381322957198), (4, 0.0004863813229571933)]\n",
            "82\n",
            "[(0, 0.00048638132295720165), (1, 0.00048638132295719856), (2, 0.00048638132295719785), (3, 0.000486381322957198), (4, 0.0004863813229571933)]\n",
            "83\n",
            "[(0, 0.00048638132295720165), (1, 0.00048638132295719856), (2, 0.00048638132295719785), (3, 0.000486381322957198), (4, 0.0004863813229571933)]\n",
            "84\n",
            "[(0, 0.0004863813229572018), (1, 0.00048638132295719856), (2, 0.00048638132295719785), (3, 0.000486381322957198), (4, 0.0004863813229571933)]\n",
            "85\n",
            "[(0, 0.0004863813229572018), (1, 0.00048638132295719856), (2, 0.00048638132295719785), (3, 0.000486381322957198), (4, 0.0004863813229571933)]\n",
            "86\n",
            "[(0, 0.0004863813229572018), (1, 0.00048638132295719856), (2, 0.00048638132295719785), (3, 0.000486381322957198), (4, 0.0004863813229571933)]\n",
            "87\n",
            "[(0, 0.0004863813229572019), (1, 0.00048638132295719856), (2, 0.00048638132295719785), (3, 0.000486381322957198), (4, 0.0004863813229571933)]\n",
            "88\n",
            "[(0, 0.0004863813229572019), (1, 0.00048638132295719856), (2, 0.00048638132295719785), (3, 0.000486381322957198), (4, 0.00048638132295719335)]\n",
            "89\n",
            "[(0, 0.0004863813229572019), (1, 0.00048638132295719856), (2, 0.00048638132295719785), (3, 0.000486381322957198), (4, 0.00048638132295719335)]\n",
            "90\n",
            "[(0, 0.0004863813229572019), (1, 0.00048638132295719856), (2, 0.00048638132295719785), (3, 0.000486381322957198), (4, 0.00048638132295719335)]\n",
            "91\n",
            "[(0, 0.0004863813229572019), (1, 0.00048638132295719856), (2, 0.00048638132295719785), (3, 0.000486381322957198), (4, 0.00048638132295719335)]\n",
            "92\n",
            "[(0, 0.0004863813229572019), (1, 0.00048638132295719856), (2, 0.00048638132295719785), (3, 0.000486381322957198), (4, 0.00048638132295719335)]\n",
            "93\n",
            "[(0, 0.0004863813229572019), (1, 0.00048638132295719856), (2, 0.00048638132295719785), (3, 0.000486381322957198), (4, 0.00048638132295719335)]\n",
            "94\n",
            "[(0, 0.0004863813229572019), (1, 0.00048638132295719856), (2, 0.00048638132295719785), (3, 0.000486381322957198), (4, 0.00048638132295719335)]\n",
            "95\n",
            "[(0, 0.0004863813229572019), (1, 0.00048638132295719856), (2, 0.00048638132295719785), (3, 0.000486381322957198), (4, 0.00048638132295719335)]\n",
            "96\n",
            "[(0, 0.0004863813229572019), (1, 0.00048638132295719856), (2, 0.00048638132295719785), (3, 0.000486381322957198), (4, 0.00048638132295719335)]\n",
            "97\n",
            "[(0, 0.0004863813229572019), (1, 0.00048638132295719856), (2, 0.00048638132295719785), (3, 0.000486381322957198), (4, 0.00048638132295719335)]\n",
            "98\n",
            "[(0, 0.0004863813229572019), (1, 0.00048638132295719856), (2, 0.00048638132295719785), (3, 0.000486381322957198), (4, 0.0004863813229571934)]\n",
            "99\n",
            "[(0, 0.0004863813229572019), (1, 0.00048638132295719856), (2, 0.00048638132295719785), (3, 0.000486381322957198), (4, 0.0004863813229571934)]\n",
            "100\n",
            "[(0, 0.0004863813229572019), (1, 0.00048638132295719856), (2, 0.00048638132295719785), (3, 0.000486381322957198), (4, 0.0004863813229571934)]\n",
            "101\n",
            "[(0, 0.0004863813229572019), (1, 0.00048638132295719856), (2, 0.00048638132295719785), (3, 0.00048638132295719807), (4, 0.0004863813229571934)]\n",
            "102\n",
            "[(0, 0.0004863813229572019), (1, 0.00048638132295719856), (2, 0.00048638132295719785), (3, 0.00048638132295719807), (4, 0.0004863813229571934)]\n",
            "103\n",
            "[(0, 0.0004863813229572019), (1, 0.00048638132295719856), (2, 0.00048638132295719785), (3, 0.00048638132295719807), (4, 0.0004863813229571934)]\n",
            "104\n",
            "[(0, 0.0004863813229572019), (1, 0.00048638132295719856), (2, 0.00048638132295719785), (3, 0.00048638132295719807), (4, 0.00048638132295719346)]\n",
            "105\n",
            "[(0, 0.0004863813229572019), (1, 0.00048638132295719856), (2, 0.00048638132295719785), (3, 0.00048638132295719807), (4, 0.00048638132295719346)]\n",
            "106\n",
            "[(0, 0.00048638132295720203), (1, 0.00048638132295719856), (2, 0.00048638132295719785), (3, 0.00048638132295719807), (4, 0.00048638132295719346)]\n",
            "107\n",
            "[(0, 0.00048638132295720203), (1, 0.00048638132295719856), (2, 0.00048638132295719785), (3, 0.00048638132295719807), (4, 0.00048638132295719346)]\n",
            "108\n",
            "[(0, 0.00048638132295720203), (1, 0.00048638132295719856), (2, 0.00048638132295719785), (3, 0.00048638132295719807), (4, 0.00048638132295719346)]\n",
            "109\n",
            "[(0, 0.00048638132295720203), (1, 0.00048638132295719856), (2, 0.00048638132295719785), (3, 0.00048638132295719807), (4, 0.00048638132295719346)]\n",
            "110\n",
            "[(0, 0.00048638132295720203), (1, 0.00048638132295719856), (2, 0.00048638132295719785), (3, 0.00048638132295719807), (4, 0.00048638132295719346)]\n",
            "111\n",
            "[(0, 0.00048638132295720203), (1, 0.00048638132295719856), (2, 0.00048638132295719785), (3, 0.00048638132295719807), (4, 0.0004863813229571935)]\n",
            "112\n",
            "[(0, 0.00048638132295720203), (1, 0.00048638132295719856), (2, 0.00048638132295719785), (3, 0.00048638132295719807), (4, 0.0004863813229571935)]\n",
            "113\n",
            "[(0, 0.00048638132295720214), (1, 0.00048638132295719856), (2, 0.00048638132295719785), (3, 0.00048638132295719807), (4, 0.0004863813229571935)]\n",
            "114\n",
            "[(0, 0.00048638132295720214), (1, 0.00048638132295719856), (2, 0.00048638132295719785), (3, 0.00048638132295719807), (4, 0.0004863813229571935)]\n",
            "115\n",
            "[(0, 0.00048638132295720214), (1, 0.00048638132295719856), (2, 0.00048638132295719785), (3, 0.00048638132295719807), (4, 0.0004863813229571935)]\n",
            "116\n",
            "[(0, 0.00048638132295720214), (1, 0.00048638132295719856), (2, 0.00048638132295719785), (3, 0.00048638132295719807), (4, 0.0004863813229571935)]\n",
            "117\n",
            "[(0, 0.00048638132295720214), (1, 0.00048638132295719856), (2, 0.00048638132295719785), (3, 0.00048638132295719807), (4, 0.0004863813229571935)]\n",
            "118\n",
            "[(0, 0.00048638132295720214), (1, 0.00048638132295719856), (2, 0.00048638132295719785), (3, 0.00048638132295719807), (4, 0.00048638132295719357)]\n",
            "119\n",
            "[(0, 0.00048638132295720214), (1, 0.00048638132295719856), (2, 0.00048638132295719785), (3, 0.00048638132295719807), (4, 0.00048638132295719357)]\n",
            "120\n",
            "[(0, 0.00048638132295720214), (1, 0.00048638132295719856), (2, 0.00048638132295719785), (3, 0.00048638132295719807), (4, 0.00048638132295719357)]\n",
            "121\n",
            "[(0, 0.00048638132295720214), (1, 0.00048638132295719856), (2, 0.00048638132295719785), (3, 0.00048638132295719807), (4, 0.00048638132295719357)]\n",
            "122\n",
            "[(0, 0.00048638132295720214), (1, 0.00048638132295719856), (2, 0.00048638132295719785), (3, 0.00048638132295719807), (4, 0.00048638132295719357)]\n",
            "123\n",
            "[(0, 0.00048638132295720214), (1, 0.00048638132295719856), (2, 0.00048638132295719785), (3, 0.00048638132295719807), (4, 0.00048638132295719357)]\n",
            "124\n",
            "[(0, 0.00048638132295720214), (1, 0.00048638132295719856), (2, 0.00048638132295719785), (3, 0.00048638132295719807), (4, 0.00048638132295719357)]\n",
            "125\n",
            "[(0, 0.00048638132295720214), (1, 0.00048638132295719856), (2, 0.00048638132295719785), (3, 0.00048638132295719807), (4, 0.00048638132295719357)]\n",
            "126\n",
            "[(0, 0.00048638132295720214), (1, 0.00048638132295719856), (2, 0.00048638132295719785), (3, 0.00048638132295719807), (4, 0.00048638132295719357)]\n",
            "127\n",
            "[(0, 0.00048638132295720214), (1, 0.00048638132295719856), (2, 0.00048638132295719785), (3, 0.00048638132295719807), (4, 0.00048638132295719357)]\n",
            "128\n",
            "[(0, 0.00048638132295720214), (1, 0.00048638132295719856), (2, 0.00048638132295719785), (3, 0.00048638132295719807), (4, 0.00048638132295719357)]\n",
            "129\n",
            "[(0, 0.00048638132295720214), (1, 0.00048638132295719856), (2, 0.00048638132295719785), (3, 0.00048638132295719807), (4, 0.00048638132295719357)]\n",
            "130\n",
            "[(0, 0.00048638132295720214), (1, 0.00048638132295719856), (2, 0.00048638132295719785), (3, 0.00048638132295719807), (4, 0.00048638132295719357)]\n",
            "131\n",
            "[(0, 0.00048638132295720214), (1, 0.00048638132295719856), (2, 0.00048638132295719785), (3, 0.00048638132295719807), (4, 0.00048638132295719357)]\n",
            "132\n",
            "[(0, 0.00048638132295720214), (1, 0.00048638132295719856), (2, 0.00048638132295719785), (3, 0.00048638132295719807), (4, 0.00048638132295719357)]\n",
            "133\n",
            "[(0, 0.00048638132295720214), (1, 0.00048638132295719856), (2, 0.00048638132295719785), (3, 0.00048638132295719807), (4, 0.00048638132295719357)]\n",
            "134\n",
            "[(0, 0.00048638132295720214), (1, 0.00048638132295719856), (2, 0.00048638132295719785), (3, 0.00048638132295719807), (4, 0.00048638132295719357)]\n",
            "135\n",
            "[(0, 0.00048638132295720214), (1, 0.00048638132295719856), (2, 0.00048638132295719785), (3, 0.00048638132295719807), (4, 0.00048638132295719357)]\n",
            "136\n",
            "[(0, 0.00048638132295720214), (1, 0.00048638132295719856), (2, 0.00048638132295719785), (3, 0.00048638132295719807), (4, 0.00048638132295719357)]\n",
            "137\n",
            "[(0, 0.00048638132295720214), (1, 0.00048638132295719856), (2, 0.00048638132295719785), (3, 0.00048638132295719807), (4, 0.00048638132295719357)]\n",
            "138\n",
            "[(0, 0.00048638132295720214), (1, 0.00048638132295719856), (2, 0.00048638132295719785), (3, 0.00048638132295719807), (4, 0.00048638132295719357)]\n",
            "139\n",
            "[(0, 0.00048638132295720214), (1, 0.00048638132295719856), (2, 0.00048638132295719785), (3, 0.00048638132295719807), (4, 0.00048638132295719357)]\n",
            "140\n",
            "[(0, 0.00048638132295720214), (1, 0.00048638132295719856), (2, 0.00048638132295719785), (3, 0.00048638132295719807), (4, 0.00048638132295719357)]\n",
            "141\n",
            "[(0, 0.00048638132295720214), (1, 0.00048638132295719856), (2, 0.00048638132295719785), (3, 0.00048638132295719807), (4, 0.00048638132295719357)]\n",
            "142\n",
            "[(0, 0.00048638132295720214), (1, 0.00048638132295719856), (2, 0.00048638132295719785), (3, 0.00048638132295719807), (4, 0.00048638132295719357)]\n",
            "143\n",
            "[(0, 0.00048638132295720214), (1, 0.00048638132295719856), (2, 0.00048638132295719785), (3, 0.00048638132295719807), (4, 0.00048638132295719357)]\n",
            "144\n",
            "[(0, 0.00048638132295720214), (1, 0.00048638132295719856), (2, 0.00048638132295719785), (3, 0.00048638132295719807), (4, 0.00048638132295719357)]\n",
            "145\n",
            "[(0, 0.00048638132295720214), (1, 0.00048638132295719856), (2, 0.00048638132295719785), (3, 0.00048638132295719807), (4, 0.00048638132295719357)]\n",
            "146\n",
            "[(0, 0.00048638132295720214), (1, 0.00048638132295719856), (2, 0.00048638132295719785), (3, 0.00048638132295719807), (4, 0.00048638132295719357)]\n",
            "147\n",
            "[(0, 0.00048638132295720214), (1, 0.00048638132295719856), (2, 0.00048638132295719785), (3, 0.00048638132295719807), (4, 0.00048638132295719357)]\n",
            "148\n",
            "[(0, 0.00048638132295720214), (1, 0.00048638132295719856), (2, 0.00048638132295719785), (3, 0.00048638132295719807), (4, 0.00048638132295719357)]\n",
            "149\n",
            "[(0, 0.00048638132295720214), (1, 0.00048638132295719856), (2, 0.00048638132295719785), (3, 0.00048638132295719807), (4, 0.00048638132295719357)]\n",
            "150\n",
            "[(0, 0.00048638132295720214), (1, 0.00048638132295719856), (2, 0.00048638132295719785), (3, 0.00048638132295719807), (4, 0.00048638132295719357)]\n",
            "151\n",
            "[(0, 0.00048638132295720214), (1, 0.00048638132295719856), (2, 0.00048638132295719785), (3, 0.00048638132295719807), (4, 0.00048638132295719357)]\n",
            "152\n",
            "[(0, 0.00048638132295720214), (1, 0.00048638132295719856), (2, 0.00048638132295719785), (3, 0.00048638132295719807), (4, 0.00048638132295719357)]\n",
            "153\n"
          ]
        }
      ]
    },
    {
      "cell_type": "code",
      "source": [],
      "metadata": {
        "id": "mD_SlyNeh6jw"
      },
      "execution_count": null,
      "outputs": []
    }
  ]
}